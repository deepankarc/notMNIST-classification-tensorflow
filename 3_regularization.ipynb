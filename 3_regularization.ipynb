{
 "cells": [
  {
   "cell_type": "markdown",
   "metadata": {
    "colab_type": "text",
    "id": "kR-4eNdK6lYS"
   },
   "source": [
    "Deep Learning\n",
    "=============\n",
    "\n",
    "Assignment 3\n",
    "------------\n",
    "\n",
    "Previously in `2_fullyconnected.ipynb`, you trained a logistic regression and a neural network model.\n",
    "\n",
    "The goal of this assignment is to explore regularization techniques."
   ]
  },
  {
   "cell_type": "code",
   "execution_count": 2,
   "metadata": {
    "cellView": "both",
    "colab": {
     "autoexec": {
      "startup": false,
      "wait_interval": 0
     }
    },
    "colab_type": "code",
    "collapsed": true,
    "id": "JLpLa8Jt7Vu4"
   },
   "outputs": [],
   "source": [
    "# These are all the modules we'll be using later. Make sure you can import them\n",
    "# before proceeding further.\n",
    "from __future__ import print_function\n",
    "import numpy as np\n",
    "import tensorflow as tf\n",
    "from six.moves import cPickle as pickle"
   ]
  },
  {
   "cell_type": "markdown",
   "metadata": {
    "colab_type": "text",
    "id": "1HrCK6e17WzV"
   },
   "source": [
    "First reload the data we generated in `1_notmnist.ipynb`."
   ]
  },
  {
   "cell_type": "code",
   "execution_count": 3,
   "metadata": {
    "cellView": "both",
    "colab": {
     "autoexec": {
      "startup": false,
      "wait_interval": 0
     },
     "output_extras": [
      {
       "item_id": 1
      }
     ]
    },
    "colab_type": "code",
    "collapsed": false,
    "executionInfo": {
     "elapsed": 11777,
     "status": "ok",
     "timestamp": 1449849322348,
     "user": {
      "color": "",
      "displayName": "",
      "isAnonymous": false,
      "isMe": true,
      "permissionId": "",
      "photoUrl": "",
      "sessionId": "0",
      "userId": ""
     },
     "user_tz": 480
    },
    "id": "y3-cj1bpmuxc",
    "outputId": "e03576f1-ebbe-4838-c388-f1777bcc9873"
   },
   "outputs": [
    {
     "name": "stdout",
     "output_type": "stream",
     "text": [
      "Training set (200000, 28, 28) (200000,)\n",
      "Validation set (10000, 28, 28) (10000,)\n",
      "Test set (10000, 28, 28) (10000,)\n"
     ]
    }
   ],
   "source": [
    "pickle_file = '/home/smart/Documents/Deepankar/ML/tensorflow_tutorial/notMNIST/notMNIST_large/notMNIST.pickle'\n",
    "\n",
    "with open(pickle_file, 'rb') as f:\n",
    "  save = pickle.load(f)\n",
    "  train_dataset = save['train_dataset']\n",
    "  train_labels = save['train_labels']\n",
    "  valid_dataset = save['valid_dataset']\n",
    "  valid_labels = save['valid_labels']\n",
    "  test_dataset = save['test_dataset']\n",
    "  test_labels = save['test_labels']\n",
    "  del save  # hint to help gc free up memory\n",
    "  print('Training set', train_dataset.shape, train_labels.shape)\n",
    "  print('Validation set', valid_dataset.shape, valid_labels.shape)\n",
    "  print('Test set', test_dataset.shape, test_labels.shape)"
   ]
  },
  {
   "cell_type": "markdown",
   "metadata": {
    "colab_type": "text",
    "id": "L7aHrm6nGDMB"
   },
   "source": [
    "Reformat into a shape that's more adapted to the models we're going to train:\n",
    "- data as a flat matrix,\n",
    "- labels as float 1-hot encodings."
   ]
  },
  {
   "cell_type": "code",
   "execution_count": 5,
   "metadata": {
    "cellView": "both",
    "colab": {
     "autoexec": {
      "startup": false,
      "wait_interval": 0
     },
     "output_extras": [
      {
       "item_id": 1
      }
     ]
    },
    "colab_type": "code",
    "collapsed": false,
    "executionInfo": {
     "elapsed": 11728,
     "status": "ok",
     "timestamp": 1449849322356,
     "user": {
      "color": "",
      "displayName": "",
      "isAnonymous": false,
      "isMe": true,
      "permissionId": "",
      "photoUrl": "",
      "sessionId": "0",
      "userId": ""
     },
     "user_tz": 480
    },
    "id": "IRSyYiIIGIzS",
    "outputId": "3f8996ee-3574-4f44-c953-5c8a04636582"
   },
   "outputs": [
    {
     "name": "stdout",
     "output_type": "stream",
     "text": [
      "Training set (200000, 784) (200000, 10)\n",
      "Validation set (10000, 784) (10000, 10)\n",
      "Test set (10000, 784) (10000, 10)\n"
     ]
    }
   ],
   "source": [
    "image_size = 28\n",
    "num_labels = 10\n",
    "\n",
    "def reformat(dataset, labels):\n",
    "  dataset = dataset.reshape((-1, image_size * image_size)).astype(np.float32)\n",
    "  # Map 1 to [0.0, 1.0, 0.0 ...], 2 to [0.0, 0.0, 1.0 ...]\n",
    "  labels = (np.arange(num_labels) == labels[:,None]).astype(np.float32)\n",
    "  return dataset, labels\n",
    "train_dataset, train_labels = reformat(train_dataset, train_labels)\n",
    "valid_dataset, valid_labels = reformat(valid_dataset, valid_labels)\n",
    "test_dataset, test_labels = reformat(test_dataset, test_labels)\n",
    "print('Training set', train_dataset.shape, train_labels.shape)\n",
    "print('Validation set', valid_dataset.shape, valid_labels.shape)\n",
    "print('Test set', test_dataset.shape, test_labels.shape)"
   ]
  },
  {
   "cell_type": "code",
   "execution_count": 6,
   "metadata": {
    "cellView": "both",
    "colab": {
     "autoexec": {
      "startup": false,
      "wait_interval": 0
     }
    },
    "colab_type": "code",
    "collapsed": true,
    "id": "RajPLaL_ZW6w"
   },
   "outputs": [],
   "source": [
    "def accuracy(predictions, labels):\n",
    "  return (100.0 * np.sum(np.argmax(predictions, 1) == np.argmax(labels, 1))\n",
    "          / predictions.shape[0])"
   ]
  },
  {
   "cell_type": "markdown",
   "metadata": {
    "colab_type": "text",
    "id": "sgLbUAQ1CW-1"
   },
   "source": [
    "---\n",
    "Problem 1\n",
    "---------\n",
    "\n",
    "Introduce and tune L2 regularization for both logistic and neural network models. Remember that L2 amounts to adding a penalty on the norm of the weights to the loss. In TensorFlow, you can compute the L2 loss for a tensor `t` using `nn.l2_loss(t)`. The right amount of regularization should improve your validation / test accuracy.\n",
    "\n",
    "---"
   ]
  },
  {
   "cell_type": "code",
   "execution_count": 34,
   "metadata": {
    "collapsed": false
   },
   "outputs": [],
   "source": [
    "batch_size = 128\n",
    "hidden_nodes = 1024\n",
    "reg = 1e-2\n",
    "\n",
    "def nn_feedforward(x, w1, w2, b1, b2):\n",
    "    z1 = tf.matmul(x, w1) + b1\n",
    "    a1 = tf.nn.relu(z1)\n",
    "    z2 = tf.matmul(a1, w2) + b2\n",
    "    \n",
    "    return z2\n",
    "\n",
    "new_graph = tf.Graph()\n",
    "with new_graph.as_default():\n",
    "    \n",
    "    # declare placeholders for training data and define constants \n",
    "    # for validation and test data\n",
    "    x_train = tf.placeholder(dtype=tf.float32, shape=(batch_size, image_size*image_size))\n",
    "    y_train = tf.placeholder(dtype=tf.float32, shape=(batch_size, num_labels))\n",
    "    x_val = tf.constant(valid_dataset)\n",
    "    x_test = tf.constant(test_dataset)\n",
    "    \n",
    "    # declare variables\n",
    "    w1 = tf.Variable(tf.truncated_normal([image_size*image_size, hidden_nodes]))\n",
    "    b1 = tf.Variable(tf.zeros([hidden_nodes]))\n",
    "    w2 = tf.Variable(tf.truncated_normal([hidden_nodes, num_labels]))\n",
    "    b2 = tf.Variable(tf.zeros([num_labels]))\n",
    "    \n",
    "    # feedforward and activations and cross-entropy loss\n",
    "    z2 = nn_feedforward(x_train, w1, w2, b1, b2)\n",
    "    loss = tf.reduce_mean(tf.nn.softmax_cross_entropy_with_logits(labels=y_train, logits=z2) +\n",
    "                         reg*tf.nn.l2_loss(w1) +\n",
    "                         reg*tf.nn.l2_loss(w2))\n",
    "    \n",
    "    # initialise the SGD optimiser\n",
    "    optimiser = tf.train.GradientDescentOptimizer(0.3).minimize(loss)\n",
    "    \n",
    "    # predictions on each dataset\n",
    "    y_train_pred = tf.nn.softmax(z2)\n",
    "    y_val_pred = tf.nn.softmax(nn_feedforward(x_val, w1, w2, b1, b2))\n",
    "    y_test_pred = tf.nn.softmax(nn_feedforward(x_test, w1, w2, b1, b2))\n",
    "    "
   ]
  },
  {
   "cell_type": "code",
   "execution_count": 35,
   "metadata": {
    "collapsed": false
   },
   "outputs": [
    {
     "name": "stdout",
     "output_type": "stream",
     "text": [
      "Initialised\n",
      "Minibatch loss at step 0: 3604.448242\n",
      "Minibatch accuracy: 10.2%\n",
      "Validation accuracy: 33.9%\n",
      "----####----\n",
      "Minibatch loss at step 500: 154.109192\n",
      "Minibatch accuracy: 84.4%\n",
      "Validation accuracy: 83.3%\n",
      "----####----\n",
      "Minibatch loss at step 1000: 8.188718\n",
      "Minibatch accuracy: 85.2%\n",
      "Validation accuracy: 84.4%\n",
      "----####----\n",
      "Minibatch loss at step 1500: 1.059434\n",
      "Minibatch accuracy: 86.7%\n",
      "Validation accuracy: 84.5%\n",
      "----####----\n",
      "Minibatch loss at step 2000: 0.706521\n",
      "Minibatch accuracy: 85.2%\n",
      "Validation accuracy: 83.9%\n",
      "----####----\n",
      "Minibatch loss at step 2500: 0.765250\n",
      "Minibatch accuracy: 82.8%\n",
      "Validation accuracy: 84.0%\n",
      "----####----\n",
      "Minibatch loss at step 3000: 0.754346\n",
      "Minibatch accuracy: 83.6%\n",
      "Validation accuracy: 84.4%\n",
      "----####----\n",
      "Minibatch loss at step 3500: 0.738489\n",
      "Minibatch accuracy: 78.1%\n",
      "Validation accuracy: 84.1%\n",
      "----####----\n",
      "Minibatch loss at step 4000: 0.679435\n",
      "Minibatch accuracy: 83.6%\n",
      "Validation accuracy: 84.0%\n",
      "----####----\n",
      "Minibatch loss at step 4500: 0.887424\n",
      "Minibatch accuracy: 82.8%\n",
      "Validation accuracy: 83.9%\n",
      "----####----\n",
      "Minibatch loss at step 5000: 0.713872\n",
      "Minibatch accuracy: 82.0%\n",
      "Validation accuracy: 84.2%\n",
      "----####----\n",
      "Test accuracy: 90.6%\n"
     ]
    }
   ],
   "source": [
    "num_steps = 5001\n",
    "\n",
    "with tf.Session(graph=new_graph) as new_session:\n",
    "\n",
    "    # randomly initialise global variables\n",
    "    tf.global_variables_initializer().run()\n",
    "    print(\"Initialised\")\n",
    "    \n",
    "    for step in xrange(num_steps):\n",
    "        # generate mini-batch\n",
    "        offset = (step * batch_size) % (train_labels.shape[0] - batch_size)\n",
    "        batch_data = train_dataset[offset:(offset + batch_size), :]\n",
    "        batch_labels = train_labels[offset:(offset + batch_size), :]\n",
    "        \n",
    "        # initialise the feed_dict\n",
    "        feed_dict = {x_train: batch_data, y_train: batch_labels}\n",
    "        \n",
    "        # run the session\n",
    "        _, l, y_pred = new_session.run([optimiser, loss, y_train_pred], feed_dict=feed_dict)\n",
    "        \n",
    "        # print the predictions after every 500 steps\n",
    "        if (step % 500 == 0):\n",
    "            print(\"Minibatch loss at step %d: %f\" % (step, l))\n",
    "            print(\"Minibatch accuracy: %.1f%%\" % accuracy(y_pred, batch_labels))\n",
    "            print(\"Validation accuracy: %.1f%%\" % accuracy(y_val_pred.eval(), valid_labels))\n",
    "            print(\"----####----\")\n",
    "        \n",
    "    print(\"Test accuracy: %.1f%%\" % accuracy(y_test_pred.eval(), test_labels))\n",
    "    new_session.close()\n",
    "    "
   ]
  },
  {
   "cell_type": "markdown",
   "metadata": {
    "colab_type": "text",
    "id": "na8xX2yHZzNF"
   },
   "source": [
    "---\n",
    "Problem 2\n",
    "---------\n",
    "Let's demonstrate an extreme case of overfitting. Restrict your training data to just a few batches. What happens?\n",
    "\n",
    "---"
   ]
  },
  {
   "cell_type": "markdown",
   "metadata": {},
   "source": [
    "The loss(accuracy) on the training set decreases(increases) however, the validation set accuracy and the test accuracy are very poor."
   ]
  },
  {
   "cell_type": "markdown",
   "metadata": {
    "colab_type": "text",
    "id": "ww3SCBUdlkRc"
   },
   "source": [
    "---\n",
    "Problem 3\n",
    "---------\n",
    "Introduce Dropout on the hidden layer of the neural network. Remember: Dropout should only be introduced during training, not evaluation, otherwise your evaluation results would be stochastic as well. TensorFlow provides `nn.dropout()` for that, but you have to make sure it's only inserted during training.\n",
    "\n",
    "What happens to our extreme overfitting case?\n",
    "\n",
    "---"
   ]
  },
  {
   "cell_type": "code",
   "execution_count": 32,
   "metadata": {
    "collapsed": false
   },
   "outputs": [],
   "source": [
    "batch_size = 64\n",
    "hidden_nodes = 1024\n",
    "# reg = 1e-2\n",
    "\n",
    "def nn_feedforward(x, w1, w2, b1, b2, istrain=True):\n",
    "    if(istrain is True):\n",
    "        x = tf.nn.dropout(x, keep_prob=0.5)\n",
    "    z1 = tf.matmul(x, w1) + b1\n",
    "    a1 = tf.nn.relu(z1)\n",
    "    if(istrain is True):\n",
    "        a1 = tf.nn.dropout(a1, keep_prob=0.5)\n",
    "    z2 = tf.matmul(a1, w2) + b2\n",
    "    \n",
    "    return z2\n",
    "\n",
    "new_graph = tf.Graph()\n",
    "with new_graph.as_default():\n",
    "    \n",
    "    # declare placeholders for training data and define constants \n",
    "    # for validation and test data\n",
    "    x_train = tf.placeholder(dtype=tf.float32, shape=(batch_size, image_size*image_size))\n",
    "    y_train = tf.placeholder(dtype=tf.float32, shape=(batch_size, num_labels))\n",
    "    x_val = tf.constant(valid_dataset)\n",
    "    x_test = tf.constant(test_dataset)\n",
    "    \n",
    "    # declare variables\n",
    "    w1 = tf.Variable(tf.truncated_normal([image_size*image_size, hidden_nodes]))\n",
    "    b1 = tf.Variable(tf.zeros([hidden_nodes]))\n",
    "    w2 = tf.Variable(tf.truncated_normal([hidden_nodes, num_labels]))\n",
    "    b2 = tf.Variable(tf.zeros([num_labels]))\n",
    "    \n",
    "    # feedforward and activations and cross-entropy loss\n",
    "    z2 = nn_feedforward(x_train, w1, w2, b1, b2)\n",
    "    loss = tf.reduce_mean(tf.nn.softmax_cross_entropy_with_logits(labels=y_train, logits=z2))\n",
    "    \n",
    "    # initialise the SGD optimiser\n",
    "    optimiser = tf.train.GradientDescentOptimizer(0.1).minimize(loss)\n",
    "    \n",
    "    # predictions on each dataset\n",
    "    y_train_pred = tf.nn.softmax(z2)\n",
    "    y_val_pred = tf.nn.softmax(nn_feedforward(x_val, w1, w2, b1, b2, istrain=False))\n",
    "    y_test_pred = tf.nn.softmax(nn_feedforward(x_test, w1, w2, b1, b2, istrain=False))\n",
    "    "
   ]
  },
  {
   "cell_type": "code",
   "execution_count": 33,
   "metadata": {
    "collapsed": false
   },
   "outputs": [
    {
     "name": "stdout",
     "output_type": "stream",
     "text": [
      "Initialised\n",
      "Minibatch loss at step 0: 890.854065\n",
      "Minibatch accuracy: 7.8%\n",
      "Validation accuracy: 16.7%\n",
      "----####----\n",
      "Minibatch loss at step 500: 115.175316\n",
      "Minibatch accuracy: 65.6%\n",
      "Validation accuracy: 79.4%\n",
      "----####----\n",
      "Minibatch loss at step 1000: 120.467133\n",
      "Minibatch accuracy: 60.9%\n",
      "Validation accuracy: 81.0%\n",
      "----####----\n",
      "Minibatch loss at step 1500: 57.628067\n",
      "Minibatch accuracy: 68.8%\n",
      "Validation accuracy: 79.8%\n",
      "----####----\n",
      "Minibatch loss at step 2000: 42.809052\n",
      "Minibatch accuracy: 73.4%\n",
      "Validation accuracy: 79.1%\n",
      "----####----\n",
      "Minibatch loss at step 2500: 79.214966\n",
      "Minibatch accuracy: 62.5%\n",
      "Validation accuracy: 80.4%\n",
      "----####----\n",
      "Minibatch loss at step 3000: 27.216545\n",
      "Minibatch accuracy: 76.6%\n",
      "Validation accuracy: 80.2%\n",
      "----####----\n",
      "Minibatch loss at step 3500: 48.289368\n",
      "Minibatch accuracy: 62.5%\n",
      "Validation accuracy: 79.9%\n",
      "----####----\n",
      "Minibatch loss at step 4000: 40.074249\n",
      "Minibatch accuracy: 67.2%\n",
      "Validation accuracy: 79.6%\n",
      "----####----\n",
      "Minibatch loss at step 4500: 49.335449\n",
      "Minibatch accuracy: 78.1%\n",
      "Validation accuracy: 79.7%\n",
      "----####----\n",
      "Minibatch loss at step 5000: 32.143970\n",
      "Minibatch accuracy: 62.5%\n",
      "Validation accuracy: 78.4%\n",
      "----####----\n",
      "Test accuracy: 85.3%\n"
     ]
    }
   ],
   "source": [
    "num_steps = 5001\n",
    "\n",
    "with tf.Session(graph=new_graph) as new_session:\n",
    "\n",
    "    # randomly initialise global variables\n",
    "    tf.global_variables_initializer().run()\n",
    "    print(\"Initialised\")\n",
    "    \n",
    "    for step in xrange(num_steps):\n",
    "        # generate mini-batch\n",
    "        offset = (step * batch_size) % (train_labels.shape[0] - batch_size)\n",
    "        batch_data = train_dataset[offset:(offset + batch_size), :]\n",
    "        batch_labels = train_labels[offset:(offset + batch_size), :]\n",
    "        \n",
    "        # initialise the feed_dict\n",
    "        feed_dict = {x_train: batch_data, y_train: batch_labels}\n",
    "        \n",
    "        # run the session\n",
    "        _, l, y_pred = new_session.run([optimiser, loss, y_train_pred], feed_dict=feed_dict)\n",
    "        \n",
    "        # print the predictions after every 500 steps\n",
    "        if (step % 500 == 0):\n",
    "            print(\"Minibatch loss at step %d: %f\" % (step, l))\n",
    "            print(\"Minibatch accuracy: %.1f%%\" % accuracy(y_pred, batch_labels))\n",
    "            print(\"Validation accuracy: %.1f%%\" % accuracy(y_val_pred.eval(), valid_labels))\n",
    "            print(\"----####----\")\n",
    "        \n",
    "    print(\"Test accuracy: %.1f%%\" % accuracy(y_test_pred.eval(), test_labels))\n",
    "    new_session.close()\n",
    "    "
   ]
  },
  {
   "cell_type": "markdown",
   "metadata": {},
   "source": [
    "#### Inference: \n",
    "\n",
    "Adding dropout mitigates overfitting since it behaves like regularisation. Adding both dropout and L2-reg shows almost no improvement in performance over just L2-reg."
   ]
  },
  {
   "cell_type": "markdown",
   "metadata": {
    "colab_type": "text",
    "id": "-b1hTz3VWZjw"
   },
   "source": [
    "---\n",
    "Problem 4\n",
    "---------\n",
    "\n",
    "Try to get the best performance you can using a multi-layer model! The best reported test accuracy using a deep network is [97.1%](http://yaroslavvb.blogspot.com/2011/09/notmnist-dataset.html?showComment=1391023266211#c8758720086795711595).\n",
    "\n",
    "One avenue you can explore is to add multiple layers.\n",
    "\n",
    "Another one is to use learning rate decay:\n",
    "\n",
    "    global_step = tf.Variable(0)  # count the number of steps taken.\n",
    "    learning_rate = tf.train.exponential_decay(0.5, global_step, ...)\n",
    "    optimizer = tf.train.GradientDescentOptimizer(learning_rate).minimize(loss, global_step=global_step)\n",
    " \n",
    " ---\n"
   ]
  },
  {
   "cell_type": "code",
   "execution_count": 37,
   "metadata": {
    "collapsed": false
   },
   "outputs": [],
   "source": [
    "from IPython.core.debugger import Tracer\n",
    "\n",
    "batch_size = 128\n",
    "input_dim = image_size*image_size\n",
    "hidden_layers = 2\n",
    "hidden_nodes = 1024\n",
    "params = {}\n",
    "reg = 1e-2\n",
    "l2_pen = 0\n",
    "\n",
    "def nn_feedforward(x, w, b):\n",
    "    z = tf.matmul(x, w) + b\n",
    "    return z\n",
    "    \n",
    "def nn_relu(z):\n",
    "    a = tf.nn.relu(z)\n",
    "    return a\n",
    "\n",
    "# computes forward pass\n",
    "def nn_computeforward(a):\n",
    "    for h in xrange(hidden_layers):\n",
    "        z = nn_feedforward(a, params['w%s' % (h+1)], params['b%s' %(h+1)])\n",
    "        a = nn_relu(z)\n",
    "    score = tf.matmul(a, params['w%s' % (hidden_layers+1)]) + params['b%s' % (hidden_layers+1)]\n",
    "    \n",
    "    return score\n",
    "\n",
    "new_graph = tf.Graph()\n",
    "with new_graph.as_default():\n",
    "    \n",
    "    # declare placeholders for training data and define constants \n",
    "    # for validation and test data\n",
    "    x_train = tf.placeholder(dtype=tf.float32, shape=(batch_size, input_dim))\n",
    "    y_train = tf.placeholder(dtype=tf.float32, shape=(batch_size, num_labels))\n",
    "    x_val = tf.constant(valid_dataset)\n",
    "    x_test = tf.constant(test_dataset)\n",
    "    \n",
    "    # declare variables\n",
    "    input_dim = image_size*image_size\n",
    "    temp = np.repeat(hidden_nodes, hidden_layers)\n",
    "    dims = [input_dim] + temp.tolist() + [num_labels]\n",
    "    # Tracer()()\n",
    "    for h in xrange(hidden_layers+1):\n",
    "        params['w%s' % (h+1)] = tf.Variable(tf.truncated_normal([dims[h], dims[h+1]]))\n",
    "        params['b%s' %(h+1)] = tf.Variable(tf.zeros([dims[h+1]]))\n",
    "    \n",
    "    # compute forward pass\n",
    "    score = nn_computeforward(x_train)\n",
    "    \n",
    "    # compute L2-penalty and cross-entropy loss\n",
    "    for h in xrange(hidden_layers):\n",
    "        l2_pen += tf.nn.l2_loss(params['w%s' % (h+1)])\n",
    "    loss = tf.reduce_mean(tf.nn.softmax_cross_entropy_with_logits(labels=y_train, logits=score) + reg*l2_pen)\n",
    "    \n",
    "    # initialise the SGD optimiser\n",
    "    optimiser = tf.train.AdagradOptimizer(0.5,initial_accumulator_value=1e-2).minimize(loss)\n",
    "    \n",
    "    # predictions on each dataset\n",
    "    y_train_pred = tf.nn.softmax(score)\n",
    "    y_val_pred = tf.nn.softmax(nn_computeforward(x_val))\n",
    "    y_test_pred = tf.nn.softmax(nn_computeforward(x_test))\n",
    "    "
   ]
  },
  {
   "cell_type": "code",
   "execution_count": null,
   "metadata": {
    "collapsed": false
   },
   "outputs": [],
   "source": [
    "num_steps = 20001\n",
    "\n",
    "with tf.Session(graph=new_graph) as new_session:\n",
    "\n",
    "    # randomly initialise global variables\n",
    "    tf.global_variables_initializer().run()\n",
    "    print(\"Initialised\")\n",
    "    \n",
    "    for step in xrange(num_steps):\n",
    "        # generate mini-batch\n",
    "        offset = (step * batch_size) % (train_labels.shape[0] - batch_size)\n",
    "        batch_data = train_dataset[offset:(offset + batch_size), :]\n",
    "        batch_labels = train_labels[offset:(offset + batch_size), :]\n",
    "        \n",
    "        # initialise the feed_dict\n",
    "        feed_dict = {x_train: batch_data, y_train: batch_labels}\n",
    "        \n",
    "        # run the session\n",
    "        _, l, y_pred = new_session.run([optimiser, loss, y_train_pred], feed_dict=feed_dict)\n",
    "        \n",
    "        # print the predictions after every 500 steps\n",
    "        if (step % 500 == 0):\n",
    "            print(\"Minibatch loss at step %d: %f\" % (step, l))\n",
    "            print(\"Minibatch accuracy: %.1f%%\" % accuracy(y_pred, batch_labels))\n",
    "            print(\"Validation accuracy: %.1f%%\" % accuracy(y_val_pred.eval(), valid_labels))\n",
    "            print(\"----####----\")\n",
    "        \n",
    "    print(\"Test accuracy: %.1f%%\" % accuracy(y_test_pred.eval(), test_labels))\n",
    "    new_session.close()\n",
    "    "
   ]
  },
  {
   "cell_type": "code",
   "execution_count": null,
   "metadata": {
    "collapsed": true
   },
   "outputs": [],
   "source": []
  }
 ],
 "metadata": {
  "anaconda-cloud": {},
  "colab": {
   "default_view": {},
   "name": "3_regularization.ipynb",
   "provenance": [],
   "version": "0.3.2",
   "views": {}
  },
  "kernelspec": {
   "display_name": "Python 2",
   "language": "python",
   "name": "python2"
  },
  "language_info": {
   "codemirror_mode": {
    "name": "ipython",
    "version": 2
   },
   "file_extension": ".py",
   "mimetype": "text/x-python",
   "name": "python",
   "nbconvert_exporter": "python",
   "pygments_lexer": "ipython2",
   "version": "2.7.13"
  }
 },
 "nbformat": 4,
 "nbformat_minor": 0
}
